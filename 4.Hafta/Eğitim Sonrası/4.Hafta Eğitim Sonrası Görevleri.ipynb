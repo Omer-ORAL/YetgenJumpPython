{
 "cells": [
  {
   "cell_type": "markdown",
   "metadata": {},
   "source": [
    "# Problem 1\n",
    "`ogrenciler` adında bir sözlük oluşturunuz. Kullanıcıdan döngü yardımıyla 3 öğrenci için veri girmesini isteyerek öğrencilerin sırasıyla okul numarası, isim, soy isim, telefon numarası ve doğum tarihi bilgilerini alınız. Aldığınız öğrenci bilgilerini yine aynı döngü yardımıyla `ogrenciler` adındaki sözlükte saklayınız. Daha sonra öğrenci bilgilerinin bulunduğu sözlük yapısını ekrana bastırınız.\n",
    "\n"
   ]
  },
  {
   "cell_type": "code",
   "execution_count": 7,
   "metadata": {},
   "outputs": [
    {
     "name": "stdout",
     "output_type": "stream",
     "text": [
      "{'a': (1, 1, '1'), 'b2': (2, 2, '2'), 'c': (3, 3, '3')}\n"
     ]
    }
   ],
   "source": [
    "# 1.Problemin Çözümünü Buraya Yazınız\n",
    "ogrenciler = dict()\n",
    "n=int((input()))\n",
    "for i in range(n):\n",
    "    adSoyad = input(\"Adı Soyadı: \")\n",
    "    okulNo = int(input(\"Okul No: \"))\n",
    "    telefon = int(input(\"Telefon No: \"))\n",
    "    dogumTarihi = input(\"Doğum Tarihiniz: \")\n",
    "    ogrenciler[adSoyad] = (okulNo, telefon, dogumTarihi)\n",
    "\n",
    "print(ogrenciler)"
   ]
  },
  {
   "cell_type": "markdown",
   "metadata": {},
   "source": [
    "# Problem 2\n",
    "\n",
    "### a - Biraz ısınarak başlayalım!\n",
    "\n",
    "```\n",
    "numbers = [5,10,10,15,15,15,20,20,20,20]\n",
    "```\n",
    "\n",
    "Yukarıda `numbers` adında 10 elemanlı bir liste verilmiştir. Bu listenin her elemanını kontrol eden ve tekrar eden elemanları bir kez olacak şekilde başka bir listeye kopyalayan bir program yazınız. Son olarak oluşturduğunuz listeyi ekrana bastırınız.\n",
    "\n",
    "\n",
    "\n",
    "\n",
    "```\n",
    ">Output\n",
    "[5, 10, 15, 20]\n",
    "```\n"
   ]
  },
  {
   "cell_type": "code",
   "execution_count": 13,
   "metadata": {},
   "outputs": [
    {
     "name": "stdout",
     "output_type": "stream",
     "text": [
      "[5, 10, 15, 20]\n"
     ]
    },
    {
     "data": {
      "text/plain": [
       "'\\nnumbers = [5,10,10,15,15,15,20,20,20,20]\\nuniqueNumbers = list()\\nfor i in numbers:\\n    if i not in uniqueNumbers:\\n        uniqueNumbers.append(i)\\nprint(uniqueNumbers)\\n'"
      ]
     },
     "execution_count": 13,
     "metadata": {},
     "output_type": "execute_result"
    }
   ],
   "source": [
    "# 2.Problemin a Şıkkının Çözümünü Buraya Yazınız\n",
    "numbers = [5,10,10,15,15,15,20,20,20,20]\n",
    "a=set(numbers)\n",
    "newList=sorted(list(a))\n",
    "print(newList)\n",
    "\n",
    "\n",
    "'''\n",
    "numbers = [5,10,10,15,15,15,20,20,20,20]\n",
    "uniqueNumbers = list()\n",
    "for i in numbers:\n",
    "    if i not in uniqueNumbers:\n",
    "        uniqueNumbers.append(i)\n",
    "print(uniqueNumbers)\n",
    "'''"
   ]
  },
  {
   "cell_type": "markdown",
   "metadata": {},
   "source": [
    "### 🌶️ b) Hadi işi biraz daha zorlaştıralım! \n",
    "\n",
    "\n",
    "Şimdiyse senden `numbers` isimli listedeki tekrar eden elemanları `repeatNumbers` adındaki listeye; tekrar etmeyen elemanları `uniqueNumbers`adındaki listeye kopyalayan yazmanı ve listeleri ekrana bastırmanı bekliyoruz\n",
    "\n",
    "```\n",
    ">Output\n",
    "Tekrar Eden Elemanlar: [10, 10, 15, 15, 15, 20, 20, 20, 20]\n",
    "Tekrar Etmeyen Elemanlar: [5]\n",
    "```"
   ]
  },
  {
   "cell_type": "code",
   "execution_count": 12,
   "metadata": {},
   "outputs": [
    {
     "name": "stdout",
     "output_type": "stream",
     "text": [
      "Tekrar eden elemanlar [10, 10, 15, 15, 15, 20, 20, 20, 20]\n",
      "Tekrar etmeyen elemanlar [5]\n"
     ]
    }
   ],
   "source": [
    "# 2.Problemin b Şıkkının Çözümünü Buraya Yazınız\n",
    "numbers = [5, 10, 10, 15, 15, 15, 20, 20, 20, 20]\n",
    "repeatNumbers = list()\n",
    "a = set(numbers)\n",
    "for num in numbers:\n",
    "    if numbers.count(num) > 1:\n",
    "        repeatNumbers.append(num)\n",
    "b = set(repeatNumbers)\n",
    "uniqueNumbers = list(a.difference(b))\n",
    "print(\"Tekrar eden elemanlar\", repeatNumbers)\n",
    "print(\"Tekrar etmeyen elemanlar\", uniqueNumbers)"
   ]
  },
  {
   "cell_type": "markdown",
   "metadata": {},
   "source": [
    "# Problem 3\n",
    "sn1 = {1,2,3,4,5}\n",
    "\n",
    "sn2 = {4,5,6,7,8}\n",
    "\n",
    " Verilen 2 adet küme için kesişimlerini, farklarını ve birleşimlerini bulunuz. "
   ]
  },
  {
   "cell_type": "code",
   "execution_count": 56,
   "metadata": {},
   "outputs": [
    {
     "name": "stdout",
     "output_type": "stream",
     "text": [
      "Kesişim:  {4, 5}\n",
      "sn1 Farkı:  {1, 2, 3}\n",
      "sn2 Farkı:  {8, 6, 7}\n",
      "Birleşim:  {1, 2, 3, 4, 5, 6, 7, 8}\n"
     ]
    }
   ],
   "source": [
    "# 3.Problemin Çözümünü Buraya Yazınız\n",
    "sn1 = {1,2,3,4,5}\n",
    "\n",
    "sn2 = {4,5,6,7,8}\n",
    "\n",
    "kesisim = sn1.intersection(sn2)\n",
    "fark_sn1 = sn1.difference(sn2)\n",
    "fark_sn2 = sn2.difference(sn1)\n",
    "birlesim = sn1.union(fark_sn2)\n",
    "#print(\"Kesişimleri\", kesisim, \"sn1 farkı: \", fark_sn1, \"sn2 farkı: \" fark_sn2, \"sn1 ve sn2 birleşimi: \", birlesim)\n",
    "#üstteki ibare neden olmadı?\n",
    "\n",
    "print(\"Kesişim: \", kesisim)\n",
    "print(\"sn1 Farkı: \", fark_sn1)\n",
    "print(\"sn2 Farkı: \", fark_sn2)\n",
    "print(\"Birleşim: \", birlesim)"
   ]
  },
  {
   "cell_type": "markdown",
   "metadata": {},
   "source": [
    "# Problem 4\n",
    "\n",
    "Buradaki işlemlerimizin tamamı stringler içindir. Aşağıda verilecek olan metodlar için kendinizin örnek yaratması gerekmektedir. \n",
    "\n",
    "Örneğin `upper` için `string` değişkeni oluştururken` k = \"BAC\"` şeklinde oluşturmayınız. Bunun yerine k değişkenini `k = \"bac`\" şeklinde oluşturmanız `upper` metodundaki değişimi görebilmeniz için daha iyi olacaktır.\n",
    "\n",
    "Bütün metodlardaki değişimin gözle görülür şekilde değişimi beklenmektedir.\n",
    "\n",
    "\n",
    "1- capitalize(), lower(), upper(), swapcase(), title(), replace()\n",
    "\n",
    "2- endswith(), startswith(), find(), index(), count()\n",
    "\n",
    "3- split(), strip(), join(), islower(), isalpha(), isdigit()\n",
    "\n",
    "\n",
    "Yukarıdaki `string` metodlarındaki değişimleri görebildiğimiz bir program yazınız.\n"
   ]
  },
  {
   "cell_type": "code",
   "execution_count": 66,
   "metadata": {},
   "outputs": [
    {
     "name": "stdout",
     "output_type": "stream",
     "text": [
      "öMER kullanıcıdan alınan bilgi\n",
      "Ömer\n",
      "ömer\n",
      "Ömer\n",
      "True\n",
      "True\n",
      "7\n",
      "0\n",
      "2\n",
      "['Hello,', 'World']\n",
      "Hello, World\n",
      "False\n",
      "False\n",
      "False\n",
      "Hello World !\n"
     ]
    }
   ],
   "source": [
    "# 4.Problemin Çözümünü Buraya Yazınız\n",
    "name = input(\"Name: \")\n",
    "print(name, \"kullanıcıdan alınan bilgi\")\n",
    "print(name.capitalize())\n",
    "print(name.lower())\n",
    "print(name.swapcase())\n",
    "a = \"Hello, World\"\n",
    "print(a.endswith(\"World\"))\n",
    "print(a.startswith(\"Hello\"))\n",
    "print(a.find(\"World\")) #?---7\n",
    "print(a.index(\"Hello\"))\n",
    "print(a.count(\"o\"))\n",
    "print(a.split())\n",
    "print(a.strip())\n",
    "print(a.islower())\n",
    "print(a.isalpha())\n",
    "print(a.isdigit())\n",
    "b = [\"Hello\", \"World\", \"!\"]\n",
    "print(\" \".join(b))"
   ]
  }
 ],
 "metadata": {
  "kernelspec": {
   "display_name": "Python 3.10.5 64-bit",
   "language": "python",
   "name": "python3"
  },
  "language_info": {
   "codemirror_mode": {
    "name": "ipython",
    "version": 3
   },
   "file_extension": ".py",
   "mimetype": "text/x-python",
   "name": "python",
   "nbconvert_exporter": "python",
   "pygments_lexer": "ipython3",
   "version": "3.12.3"
  },
  "orig_nbformat": 4,
  "vscode": {
   "interpreter": {
    "hash": "5026d2d6e7aaaaba093def813beadff083d8733e4a511af01735cbabd156995d"
   }
  }
 },
 "nbformat": 4,
 "nbformat_minor": 2
}
